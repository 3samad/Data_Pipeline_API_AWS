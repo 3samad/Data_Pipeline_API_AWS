{
 "cells": [
  {
   "cell_type": "code",
   "execution_count": 1,
   "id": "ebb695ab",
   "metadata": {
    "tags": []
   },
   "outputs": [],
   "source": [
    "import pandas as pd\n",
    "import requests\n",
    "from datetime import datetime, date, timedelta"
   ]
  },
  {
   "cell_type": "code",
   "execution_count": 2,
   "id": "92620271",
   "metadata": {
    "collapsed": true,
    "jupyter": {
     "outputs_hidden": true
    },
    "tags": []
   },
   "outputs": [
    {
     "name": "stdout",
     "output_type": "stream",
     "text": [
      "{'searchBy': {'lat': 51.2024, 'lon': 12.223}, 'count': 1, 'items': [{'icao': 'EDDP', 'iata': 'LEJ', 'name': 'Leipzig Halle', 'shortName': 'Halle', 'municipalityName': 'Leipzig', 'location': {'lat': 51.4324, 'lon': 12.2416}, 'countryCode': 'DE'}]}\n"
     ]
    }
   ],
   "source": [
    "url = \"https://aerodatabox.p.rapidapi.com/airports/search/location\"\n",
    "\n",
    "querystring = {\"lat\":\"51.2024\",\"lon\":\"12.223\",\"radiusKm\":\"50\",\"limit\":\"10\",\"withFlightInfoOnly\":\"true\"}\n",
    "\n",
    "headers = {\n",
    "\t\"X-RapidAPI-Key\": \"DO_NOT_FORGET_TO_PUT_YOUR_KEY_HERE\",\n",
    "\t\"X-RapidAPI-Host\": \"aerodatabox.p.rapidapi.com\"\n",
    "}\n",
    "\n",
    "response = requests.get(url, headers=headers, params=querystring)\n",
    "\n",
    "print(response.json())"
   ]
  },
  {
   "cell_type": "code",
   "execution_count": 3,
   "id": "fd9be825",
   "metadata": {
    "tags": []
   },
   "outputs": [
    {
     "data": {
      "text/html": [
       "<div>\n",
       "<style scoped>\n",
       "    .dataframe tbody tr th:only-of-type {\n",
       "        vertical-align: middle;\n",
       "    }\n",
       "\n",
       "    .dataframe tbody tr th {\n",
       "        vertical-align: top;\n",
       "    }\n",
       "\n",
       "    .dataframe thead th {\n",
       "        text-align: right;\n",
       "    }\n",
       "</style>\n",
       "<table border=\"1\" class=\"dataframe\">\n",
       "  <thead>\n",
       "    <tr style=\"text-align: right;\">\n",
       "      <th></th>\n",
       "      <th>icao</th>\n",
       "      <th>iata</th>\n",
       "      <th>name</th>\n",
       "      <th>shortName</th>\n",
       "      <th>municipalityName</th>\n",
       "      <th>countryCode</th>\n",
       "      <th>location.lat</th>\n",
       "      <th>location.lon</th>\n",
       "    </tr>\n",
       "  </thead>\n",
       "  <tbody>\n",
       "    <tr>\n",
       "      <th>0</th>\n",
       "      <td>EDDP</td>\n",
       "      <td>LEJ</td>\n",
       "      <td>Leipzig Halle</td>\n",
       "      <td>Halle</td>\n",
       "      <td>Leipzig</td>\n",
       "      <td>DE</td>\n",
       "      <td>51.4324</td>\n",
       "      <td>12.2416</td>\n",
       "    </tr>\n",
       "  </tbody>\n",
       "</table>\n",
       "</div>"
      ],
      "text/plain": [
       "   icao iata           name shortName municipalityName countryCode  \\\n",
       "0  EDDP  LEJ  Leipzig Halle     Halle          Leipzig          DE   \n",
       "\n",
       "   location.lat  location.lon  \n",
       "0       51.4324       12.2416  "
      ]
     },
     "execution_count": 3,
     "metadata": {},
     "output_type": "execute_result"
    }
   ],
   "source": [
    "resp = response.json()\n",
    "airports_l = response.json()\n",
    "pd.json_normalize(airports_l['items'])"
   ]
  },
  {
   "cell_type": "code",
   "execution_count": 4,
   "id": "f2629f75",
   "metadata": {
    "tags": []
   },
   "outputs": [
    {
     "data": {
      "text/html": [
       "<div>\n",
       "<style scoped>\n",
       "    .dataframe tbody tr th:only-of-type {\n",
       "        vertical-align: middle;\n",
       "    }\n",
       "\n",
       "    .dataframe tbody tr th {\n",
       "        vertical-align: top;\n",
       "    }\n",
       "\n",
       "    .dataframe thead th {\n",
       "        text-align: right;\n",
       "    }\n",
       "</style>\n",
       "<table border=\"1\" class=\"dataframe\">\n",
       "  <thead>\n",
       "    <tr style=\"text-align: right;\">\n",
       "      <th></th>\n",
       "      <th>airport_icao</th>\n",
       "      <th>airport_name</th>\n",
       "      <th>country_code</th>\n",
       "      <th>latitude</th>\n",
       "      <th>longitude</th>\n",
       "    </tr>\n",
       "  </thead>\n",
       "  <tbody>\n",
       "    <tr>\n",
       "      <th>0</th>\n",
       "      <td>EDDP</td>\n",
       "      <td>Leipzig Halle</td>\n",
       "      <td>DE</td>\n",
       "      <td>51.4324</td>\n",
       "      <td>12.2416</td>\n",
       "    </tr>\n",
       "  </tbody>\n",
       "</table>\n",
       "</div>"
      ],
      "text/plain": [
       "  airport_icao   airport_name country_code  latitude  longitude\n",
       "0         EDDP  Leipzig Halle           DE   51.4324    12.2416"
      ]
     },
     "execution_count": 4,
     "metadata": {},
     "output_type": "execute_result"
    }
   ],
   "source": [
    "airports_l = pd.json_normalize(airports_l[\"items\"])[[\"icao\", \"name\", \"countryCode\", \"location.lat\", \"location.lon\"]]\n",
    "airports_l = airports_l.rename(columns={\"icao\": \"airport_icao\", \"name\": \"airport_name\", \"countryCode\": \"country_code\", \"location.lat\": \"latitude\", \"location.lon\": \"longitude\"})\n",
    "airports_l"
   ]
  },
  {
   "cell_type": "code",
   "execution_count": 5,
   "id": "dc316aea",
   "metadata": {
    "tags": []
   },
   "outputs": [
    {
     "name": "stdout",
     "output_type": "stream",
     "text": [
      "{'message': 'You have exceeded the MONTHLY quota for Tier 2 on your current plan, PRO. Upgrade your plan at https://rapidapi.com/aedbx-aedbx/api/aerodatabox'}\n"
     ]
    }
   ],
   "source": [
    "url = \"https://aerodatabox.p.rapidapi.com/airports/search/location\"\n",
    "\n",
    "querystring = {\"lat\":\"51.0300\",\"lon\":\"13.4424\",\"radiusKm\":\"50\",\"limit\":\"10\",\"withFlightInfoOnly\":\"true\"}\n",
    "\n",
    "headers = {\n",
    "\t\"X-RapidAPI-Key\": \"DO_NOT_FORGET_TO_PUT_YOUR_KEY_HERE\",\n",
    "\t\"X-RapidAPI-Host\": \"aerodatabox.p.rapidapi.com\"\n",
    "}\n",
    "\n",
    "response = requests.get(url, headers=headers, params=querystring)\n",
    "\n",
    "print(response.json())"
   ]
  },
  {
   "cell_type": "code",
   "execution_count": 50,
   "id": "8b555036",
   "metadata": {},
   "outputs": [
    {
     "ename": "KeyError",
     "evalue": "'items'",
     "output_type": "error",
     "traceback": [
      "\u001b[1;31m---------------------------------------------------------------------------\u001b[0m",
      "\u001b[1;31mKeyError\u001b[0m                                  Traceback (most recent call last)",
      "Cell \u001b[1;32mIn[50], line 3\u001b[0m\n\u001b[0;32m      1\u001b[0m resp \u001b[38;5;241m=\u001b[39m response\u001b[38;5;241m.\u001b[39mjson()\n\u001b[0;32m      2\u001b[0m airports_d \u001b[38;5;241m=\u001b[39m response\u001b[38;5;241m.\u001b[39mjson()\n\u001b[1;32m----> 3\u001b[0m pd\u001b[38;5;241m.\u001b[39mjson_normalize(airports_d[\u001b[38;5;124m'\u001b[39m\u001b[38;5;124mitems\u001b[39m\u001b[38;5;124m'\u001b[39m])\n",
      "\u001b[1;31mKeyError\u001b[0m: 'items'"
     ]
    }
   ],
   "source": [
    "resp = response.json()\n",
    "airports_d = response.json()\n",
    "pd.json_normalize(airports_d['items'])"
   ]
  },
  {
   "cell_type": "code",
   "execution_count": null,
   "id": "d489ccde",
   "metadata": {},
   "outputs": [],
   "source": [
    "airports_d = pd.json_normalize(airports_d[\"items\"])[[\"icao\", \"name\", \"countryCode\", \"location.lat\", \"location.lon\"]]\n",
    "airports_d = airports_d.rename(columns={\"icao\": \"airport_icao\", \"name\": \"airport_name\", \"countryCode\": \"country_code\", \"location.lat\": \"latitude\", \"location.lon\": \"longitude\"})\n",
    "airports_d"
   ]
  },
  {
   "cell_type": "code",
   "execution_count": 6,
   "id": "1beada21",
   "metadata": {
    "tags": []
   },
   "outputs": [
    {
     "name": "stdout",
     "output_type": "stream",
     "text": [
      "{'message': 'You have exceeded the MONTHLY quota for Tier 2 on your current plan, PRO. Upgrade your plan at https://rapidapi.com/aedbx-aedbx/api/aerodatabox'}\n"
     ]
    }
   ],
   "source": [
    "url = \"https://aerodatabox.p.rapidapi.com/airports/search/location\"\n",
    "\n",
    "querystring = {\"lat\":\"50.0638\",\"lon\":\"08.4056\",\"radiusKm\":\"50\",\"limit\":\"10\",\"withFlightInfoOnly\":\"true\"}\n",
    "\n",
    "headers = {\n",
    "\t\"X-RapidAPI-Key\": \"DO_NOT_FORGET_TO_PUT_YOUR_KEY_HERE\",\n",
    "\t\"X-RapidAPI-Host\": \"aerodatabox.p.rapidapi.com\"\n",
    "}\n",
    "\n",
    "response = requests.get(url, headers=headers, params=querystring)\n",
    "\n",
    "print(response.json())"
   ]
  },
  {
   "cell_type": "code",
   "execution_count": null,
   "id": "1b0d6286",
   "metadata": {},
   "outputs": [],
   "source": [
    "resp = response.json()\n",
    "airports_f = response.json()\n",
    "pd.json_normalize(airports_f['items'])"
   ]
  },
  {
   "cell_type": "code",
   "execution_count": null,
   "id": "cfe0a5d3",
   "metadata": {},
   "outputs": [],
   "source": [
    "airports_f = pd.json_normalize(airports_f[\"items\"])[[\"icao\", \"name\", \"countryCode\", \"location.lat\", \"location.lon\"]]\n",
    "airports_f = airports_f.rename(columns={\"icao\": \"airport_icao\", \"name\": \"airport_name\", \"countryCode\": \"country_code\", \"location.lat\": \"latitude\", \"location.lon\": \"longitude\"})\n",
    "airports_f"
   ]
  },
  {
   "cell_type": "code",
   "execution_count": null,
   "id": "81688b87",
   "metadata": {
    "scrolled": true
   },
   "outputs": [],
   "source": [
    "airports = pd.concat([airports_l, airports_d, airports_f])"
   ]
  },
  {
   "cell_type": "code",
   "execution_count": 49,
   "id": "a5097f90",
   "metadata": {},
   "outputs": [
    {
     "data": {
      "text/html": [
       "<div>\n",
       "<style scoped>\n",
       "    .dataframe tbody tr th:only-of-type {\n",
       "        vertical-align: middle;\n",
       "    }\n",
       "\n",
       "    .dataframe tbody tr th {\n",
       "        vertical-align: top;\n",
       "    }\n",
       "\n",
       "    .dataframe thead th {\n",
       "        text-align: right;\n",
       "    }\n",
       "</style>\n",
       "<table border=\"1\" class=\"dataframe\">\n",
       "  <thead>\n",
       "    <tr style=\"text-align: right;\">\n",
       "      <th></th>\n",
       "      <th>city_id</th>\n",
       "      <th>airport_icao</th>\n",
       "      <th>airport_name</th>\n",
       "      <th>country_code</th>\n",
       "      <th>latitude</th>\n",
       "      <th>longitude</th>\n",
       "    </tr>\n",
       "  </thead>\n",
       "  <tbody>\n",
       "    <tr>\n",
       "      <th>0</th>\n",
       "      <td>1</td>\n",
       "      <td>EDDP</td>\n",
       "      <td>Leipzig Halle</td>\n",
       "      <td>DE</td>\n",
       "      <td>51.4324</td>\n",
       "      <td>12.241600</td>\n",
       "    </tr>\n",
       "    <tr>\n",
       "      <th>0</th>\n",
       "      <td>2</td>\n",
       "      <td>EDDC</td>\n",
       "      <td>Dresden</td>\n",
       "      <td>DE</td>\n",
       "      <td>51.1328</td>\n",
       "      <td>13.767200</td>\n",
       "    </tr>\n",
       "    <tr>\n",
       "      <th>0</th>\n",
       "      <td>3</td>\n",
       "      <td>EDDF</td>\n",
       "      <td>Frankfurt-am-Main</td>\n",
       "      <td>DE</td>\n",
       "      <td>50.0264</td>\n",
       "      <td>8.543129</td>\n",
       "    </tr>\n",
       "  </tbody>\n",
       "</table>\n",
       "</div>"
      ],
      "text/plain": [
       "   city_id airport_icao        airport_name country_code  latitude  longitude\n",
       "0        1         EDDP       Leipzig Halle           DE   51.4324  12.241600\n",
       "0        2         EDDC            Dresden            DE   51.1328  13.767200\n",
       "0        3         EDDF  Frankfurt-am-Main            DE   50.0264   8.543129"
      ]
     },
     "execution_count": 49,
     "metadata": {},
     "output_type": "execute_result"
    }
   ],
   "source": [
    "airports[\"city_id\"] = [1,2,3]"
   ]
  },
  {
   "cell_type": "code",
   "execution_count": 43,
   "id": "6fc791f5",
   "metadata": {},
   "outputs": [
    {
     "data": {
      "text/html": [
       "<div>\n",
       "<style scoped>\n",
       "    .dataframe tbody tr th:only-of-type {\n",
       "        vertical-align: middle;\n",
       "    }\n",
       "\n",
       "    .dataframe tbody tr th {\n",
       "        vertical-align: top;\n",
       "    }\n",
       "\n",
       "    .dataframe thead th {\n",
       "        text-align: right;\n",
       "    }\n",
       "</style>\n",
       "<table border=\"1\" class=\"dataframe\">\n",
       "  <thead>\n",
       "    <tr style=\"text-align: right;\">\n",
       "      <th></th>\n",
       "      <th>city_id</th>\n",
       "      <th>airport_icao</th>\n",
       "      <th>airport_name</th>\n",
       "      <th>country_code</th>\n",
       "      <th>latitude</th>\n",
       "      <th>longitude</th>\n",
       "    </tr>\n",
       "  </thead>\n",
       "  <tbody>\n",
       "    <tr>\n",
       "      <th>0</th>\n",
       "      <td>1</td>\n",
       "      <td>EDDP</td>\n",
       "      <td>Leipzig Halle</td>\n",
       "      <td>DE</td>\n",
       "      <td>51.4324</td>\n",
       "      <td>12.241600</td>\n",
       "    </tr>\n",
       "    <tr>\n",
       "      <th>0</th>\n",
       "      <td>2</td>\n",
       "      <td>EDDC</td>\n",
       "      <td>Dresden</td>\n",
       "      <td>DE</td>\n",
       "      <td>51.1328</td>\n",
       "      <td>13.767200</td>\n",
       "    </tr>\n",
       "    <tr>\n",
       "      <th>0</th>\n",
       "      <td>3</td>\n",
       "      <td>EDDF</td>\n",
       "      <td>Frankfurt-am-Main</td>\n",
       "      <td>DE</td>\n",
       "      <td>50.0264</td>\n",
       "      <td>8.543129</td>\n",
       "    </tr>\n",
       "  </tbody>\n",
       "</table>\n",
       "</div>"
      ],
      "text/plain": [
       "   city_id airport_icao        airport_name country_code  latitude  longitude\n",
       "0        1         EDDP       Leipzig Halle           DE   51.4324  12.241600\n",
       "0        2         EDDC            Dresden            DE   51.1328  13.767200\n",
       "0        3         EDDF  Frankfurt-am-Main            DE   50.0264   8.543129"
      ]
     },
     "execution_count": 43,
     "metadata": {},
     "output_type": "execute_result"
    }
   ],
   "source": [
    "airports = airports[['city_id', 'airport_icao', 'airport_name', 'country_code', 'latitude', 'longitude']]\n",
    "airports"
   ]
  }
 ],
 "metadata": {
  "kernelspec": {
   "display_name": "Python 3 (ipykernel)",
   "language": "python",
   "name": "python3"
  },
  "language_info": {
   "codemirror_mode": {
    "name": "ipython",
    "version": 3
   },
   "file_extension": ".py",
   "mimetype": "text/x-python",
   "name": "python",
   "nbconvert_exporter": "python",
   "pygments_lexer": "ipython3",
   "version": "3.11.5"
  }
 },
 "nbformat": 4,
 "nbformat_minor": 5
}
