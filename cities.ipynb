{
 "cells": [
  {
   "cell_type": "code",
   "execution_count": 1,
   "id": "385fb581",
   "metadata": {
    "tags": []
   },
   "outputs": [],
   "source": [
    "from bs4 import BeautifulSoup \n",
    "import requests\n",
    "import pandas as pd\n",
    "import re"
   ]
  },
  {
   "cell_type": "code",
   "execution_count": 2,
   "id": "fdbddaa4",
   "metadata": {
    "tags": []
   },
   "outputs": [],
   "source": [
    "url_l = \"https://en.wikipedia.org/wiki/Leipzig\"\n",
    "url_d = \"https://en.wikipedia.org/wiki/Dresden\"\n",
    "url_f = \"https://en.wikipedia.org/wiki/Frankfurt\""
   ]
  },
  {
   "cell_type": "code",
   "execution_count": 3,
   "id": "29cd417d",
   "metadata": {
    "tags": []
   },
   "outputs": [
    {
     "data": {
      "text/plain": [
       "200"
      ]
     },
     "execution_count": 3,
     "metadata": {},
     "output_type": "execute_result"
    }
   ],
   "source": [
    "response = requests.get(url_l)\n",
    "response.status_code # 200 status code means OK!"
   ]
  },
  {
   "cell_type": "code",
   "execution_count": 4,
   "id": "561db07a",
   "metadata": {
    "tags": []
   },
   "outputs": [
    {
     "data": {
      "text/html": [
       "<div>\n",
       "<style scoped>\n",
       "    .dataframe tbody tr th:only-of-type {\n",
       "        vertical-align: middle;\n",
       "    }\n",
       "\n",
       "    .dataframe tbody tr th {\n",
       "        vertical-align: top;\n",
       "    }\n",
       "\n",
       "    .dataframe thead th {\n",
       "        text-align: right;\n",
       "    }\n",
       "</style>\n",
       "<table border=\"1\" class=\"dataframe\">\n",
       "  <thead>\n",
       "    <tr style=\"text-align: right;\">\n",
       "      <th></th>\n",
       "      <th>city</th>\n",
       "      <th>country</th>\n",
       "      <th>latitude</th>\n",
       "      <th>longitude</th>\n",
       "      <th>population</th>\n",
       "    </tr>\n",
       "  </thead>\n",
       "  <tbody>\n",
       "  </tbody>\n",
       "</table>\n",
       "</div>"
      ],
      "text/plain": [
       "Empty DataFrame\n",
       "Columns: [city, country, latitude, longitude, population]\n",
       "Index: []"
      ]
     },
     "execution_count": 4,
     "metadata": {},
     "output_type": "execute_result"
    }
   ],
   "source": [
    "cities = pd.DataFrame(\n",
    "    {'city': [],\n",
    "     'country': [],\n",
    "     'latitude': [],\n",
    "     'longitude': [],\n",
    "     'population': []}\n",
    "    )\n",
    "cities"
   ]
  },
  {
   "cell_type": "code",
   "execution_count": 5,
   "id": "26b65ff0",
   "metadata": {
    "tags": []
   },
   "outputs": [],
   "source": [
    "list_of_cities = [\"Leipzig\", \"Dresden\", \"Frankfurt\"]"
   ]
  },
  {
   "cell_type": "code",
   "execution_count": 6,
   "id": "3ddac215",
   "metadata": {
    "scrolled": true,
    "tags": []
   },
   "outputs": [
    {
     "data": {
      "text/html": [
       "<div>\n",
       "<style scoped>\n",
       "    .dataframe tbody tr th:only-of-type {\n",
       "        vertical-align: middle;\n",
       "    }\n",
       "\n",
       "    .dataframe tbody tr th {\n",
       "        vertical-align: top;\n",
       "    }\n",
       "\n",
       "    .dataframe thead th {\n",
       "        text-align: right;\n",
       "    }\n",
       "</style>\n",
       "<table border=\"1\" class=\"dataframe\">\n",
       "  <thead>\n",
       "    <tr style=\"text-align: right;\">\n",
       "      <th></th>\n",
       "      <th>city</th>\n",
       "      <th>country</th>\n",
       "      <th>latitude</th>\n",
       "      <th>longitude</th>\n",
       "      <th>population</th>\n",
       "    </tr>\n",
       "  </thead>\n",
       "  <tbody>\n",
       "    <tr>\n",
       "      <th>0</th>\n",
       "      <td>Leipzig</td>\n",
       "      <td>Germany</td>\n",
       "      <td>51.2024</td>\n",
       "      <td>12.2230</td>\n",
       "      <td>601866</td>\n",
       "    </tr>\n",
       "    <tr>\n",
       "      <th>1</th>\n",
       "      <td>Dresden</td>\n",
       "      <td>Germany</td>\n",
       "      <td>51.0300</td>\n",
       "      <td>13.4424</td>\n",
       "      <td>555351</td>\n",
       "    </tr>\n",
       "    <tr>\n",
       "      <th>2</th>\n",
       "      <td>Frankfurt</td>\n",
       "      <td>Germany</td>\n",
       "      <td>50.0638</td>\n",
       "      <td>08.4056</td>\n",
       "      <td>773068</td>\n",
       "    </tr>\n",
       "  </tbody>\n",
       "</table>\n",
       "</div>"
      ],
      "text/plain": [
       "        city  country latitude longitude population\n",
       "0    Leipzig  Germany  51.2024   12.2230     601866\n",
       "1    Dresden  Germany  51.0300   13.4424     555351\n",
       "2  Frankfurt  Germany  50.0638   08.4056     773068"
      ]
     },
     "execution_count": 6,
     "metadata": {},
     "output_type": "execute_result"
    }
   ],
   "source": [
    "for city in list_of_cities:\n",
    "\n",
    "    url = \"https://en.wikipedia.org/wiki/\" + city\n",
    "    #download html with a get request\n",
    "    headers = {'Accept-Language': 'en-US,en;q=0.8'}\n",
    "    response = requests.get(url, headers = headers)\n",
    "    if response.status_code != 200: break  # 200 status code means OK!\n",
    "\n",
    "    # parse html (create the 'soup')\n",
    "    wiki_soup = BeautifulSoup(response.content, \"html.parser\")\n",
    "\n",
    "    #extract name, country, latitude, longitude, population\n",
    "    city_name = wiki_soup.select(\"span.mw-page-title-main\")[0].getText()\n",
    "    country_name = wiki_soup.select(\"table.infobox td.infobox-data\")[0].getText()\n",
    "    latitude = wiki_soup.select(\"span.latitude\")[0].getText()\n",
    "    longitude = wiki_soup.select(\"span.longitude\")[0].getText()\n",
    "\n",
    "    if wiki_soup.select_one('th.infobox-header:-soup-contains(\"Population\")'):\n",
    "        population = wiki_soup.select_one('th.infobox-header:-soup-contains(\"Population\")').parent.find_next_sibling().find(string=re.compile(r'\\d+'))\n",
    "\n",
    "    #append information to the cities_df\n",
    "    city_df = pd.DataFrame(\n",
    "        {\"city\": [city_name],\n",
    "         \"country\": [country_name],\n",
    "         \"latitude\": [latitude],\n",
    "         \"longitude\": [longitude],\n",
    "         \"population\": [population]\n",
    "        }\n",
    "    )\n",
    "\n",
    "    #cities = cities.append(city_df, ignore_index=True)\n",
    "    cities = pd.concat([cities, city_df], ignore_index = True)\n",
    "\n",
    "    # fixing latitude\n",
    "    cities['latitude'] = cities['latitude'].str.split('″').str[0].str.replace('°', '.', regex=False).str.replace('′', '', regex=False)\n",
    "    # fixing longitude\n",
    "    cities['longitude'] = cities['longitude'].str.split('″').str[0].str.replace('°', '.', regex=False).str.replace('′', '', regex=False)\n",
    "\n",
    "    # fixing population\n",
    "    cities[\"population\"] = cities[\"population\"].str.replace(',', '', regex=False)\n",
    "\n",
    "cities"
   ]
  },
  {
   "cell_type": "code",
   "execution_count": 7,
   "id": "e29436ee",
   "metadata": {
    "tags": []
   },
   "outputs": [
    {
     "data": {
      "text/html": [
       "<div>\n",
       "<style scoped>\n",
       "    .dataframe tbody tr th:only-of-type {\n",
       "        vertical-align: middle;\n",
       "    }\n",
       "\n",
       "    .dataframe tbody tr th {\n",
       "        vertical-align: top;\n",
       "    }\n",
       "\n",
       "    .dataframe thead th {\n",
       "        text-align: right;\n",
       "    }\n",
       "</style>\n",
       "<table border=\"1\" class=\"dataframe\">\n",
       "  <thead>\n",
       "    <tr style=\"text-align: right;\">\n",
       "      <th></th>\n",
       "      <th>city_name</th>\n",
       "      <th>country</th>\n",
       "      <th>latitude</th>\n",
       "      <th>longitude</th>\n",
       "      <th>population</th>\n",
       "    </tr>\n",
       "  </thead>\n",
       "  <tbody>\n",
       "    <tr>\n",
       "      <th>0</th>\n",
       "      <td>Leipzig</td>\n",
       "      <td>Germany</td>\n",
       "      <td>51.2024</td>\n",
       "      <td>12.2230</td>\n",
       "      <td>601866</td>\n",
       "    </tr>\n",
       "    <tr>\n",
       "      <th>1</th>\n",
       "      <td>Dresden</td>\n",
       "      <td>Germany</td>\n",
       "      <td>51.0300</td>\n",
       "      <td>13.4424</td>\n",
       "      <td>555351</td>\n",
       "    </tr>\n",
       "    <tr>\n",
       "      <th>2</th>\n",
       "      <td>Frankfurt</td>\n",
       "      <td>Germany</td>\n",
       "      <td>50.0638</td>\n",
       "      <td>08.4056</td>\n",
       "      <td>773068</td>\n",
       "    </tr>\n",
       "  </tbody>\n",
       "</table>\n",
       "</div>"
      ],
      "text/plain": [
       "   city_name  country latitude longitude population\n",
       "0    Leipzig  Germany  51.2024   12.2230     601866\n",
       "1    Dresden  Germany  51.0300   13.4424     555351\n",
       "2  Frankfurt  Germany  50.0638   08.4056     773068"
      ]
     },
     "execution_count": 7,
     "metadata": {},
     "output_type": "execute_result"
    }
   ],
   "source": [
    "cities = cities.rename(columns={\"city\": \"city_name\"})\n",
    "cities"
   ]
  },
  {
   "cell_type": "code",
   "execution_count": null,
   "id": "70f2e847",
   "metadata": {},
   "outputs": [],
   "source": [
    "cities.to_csv(\"cities.csv\", index=False)"
   ]
  }
 ],
 "metadata": {
  "kernelspec": {
   "display_name": "Python 3 (ipykernel)",
   "language": "python",
   "name": "python3"
  },
  "language_info": {
   "codemirror_mode": {
    "name": "ipython",
    "version": 3
   },
   "file_extension": ".py",
   "mimetype": "text/x-python",
   "name": "python",
   "nbconvert_exporter": "python",
   "pygments_lexer": "ipython3",
   "version": "3.11.5"
  }
 },
 "nbformat": 4,
 "nbformat_minor": 5
}
